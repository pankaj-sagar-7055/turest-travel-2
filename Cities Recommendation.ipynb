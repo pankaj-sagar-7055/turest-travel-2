{
 "cells": [
  {
   "cell_type": "code",
   "execution_count": 2,
   "id": "7a421fa5",
   "metadata": {},
   "outputs": [],
   "source": [
    "###Recommendation Engine system using Clustering | Collaborative Filtering"
   ]
  },
  {
   "cell_type": "code",
   "execution_count": 1,
   "id": "e26058d6",
   "metadata": {},
   "outputs": [],
   "source": [
    "import pandas as pd\n",
    "import numpy as np\n",
    "import matplotlib.pyplot as plt\n",
    "import seaborn as sns"
   ]
  },
  {
   "cell_type": "code",
   "execution_count": 2,
   "id": "9778d848",
   "metadata": {},
   "outputs": [
    {
     "name": "stdout",
     "output_type": "stream",
     "text": [
      "C:\\Users\\admin\\Desktop\\ML Project\n"
     ]
    }
   ],
   "source": [
    "import os\n",
    "print(os.getcwd())"
   ]
  },
  {
   "cell_type": "code",
   "execution_count": 3,
   "id": "03de734c",
   "metadata": {},
   "outputs": [
    {
     "name": "stderr",
     "output_type": "stream",
     "text": [
      "C:\\Users\\admin\\AppData\\Local\\Temp\\ipykernel_7748\\553323567.py:1: FutureWarning: The error_bad_lines argument has been deprecated and will be removed in a future version. Use on_bad_lines in the future.\n",
      "\n",
      "\n",
      "  cities = pd.read_csv('C:/Users/admin/Desktop/ML Project/Cities.csv', sep=\",\", header=0, error_bad_lines=False, encoding='latin-1')\n"
     ]
    }
   ],
   "source": [
    "cities = pd.read_csv('C:/Users/admin/Desktop/ML Project/Cities.csv', sep=\",\", header=0, error_bad_lines=False, encoding='latin-1')"
   ]
  },
  {
   "cell_type": "code",
   "execution_count": 4,
   "id": "8c319473",
   "metadata": {},
   "outputs": [
    {
     "data": {
      "text/html": [
       "<div>\n",
       "<style scoped>\n",
       "    .dataframe tbody tr th:only-of-type {\n",
       "        vertical-align: middle;\n",
       "    }\n",
       "\n",
       "    .dataframe tbody tr th {\n",
       "        vertical-align: top;\n",
       "    }\n",
       "\n",
       "    .dataframe thead th {\n",
       "        text-align: right;\n",
       "    }\n",
       "</style>\n",
       "<table border=\"1\" class=\"dataframe\">\n",
       "  <thead>\n",
       "    <tr style=\"text-align: right;\">\n",
       "      <th></th>\n",
       "      <th>Serial_number</th>\n",
       "      <th>City</th>\n",
       "      <th>Part_of_India</th>\n",
       "      <th>Tag</th>\n",
       "      <th>Tag2</th>\n",
       "    </tr>\n",
       "  </thead>\n",
       "  <tbody>\n",
       "    <tr>\n",
       "      <th>0</th>\n",
       "      <td>1</td>\n",
       "      <td>Delhi</td>\n",
       "      <td>North</td>\n",
       "      <td>Historical</td>\n",
       "      <td>Leisure</td>\n",
       "    </tr>\n",
       "    <tr>\n",
       "      <th>1</th>\n",
       "      <td>2</td>\n",
       "      <td>Nainital</td>\n",
       "      <td>North</td>\n",
       "      <td>Hilly</td>\n",
       "      <td>Leisure</td>\n",
       "    </tr>\n",
       "    <tr>\n",
       "      <th>2</th>\n",
       "      <td>3</td>\n",
       "      <td>Shimla</td>\n",
       "      <td>North</td>\n",
       "      <td>Hilly</td>\n",
       "      <td>Religious</td>\n",
       "    </tr>\n",
       "    <tr>\n",
       "      <th>3</th>\n",
       "      <td>4</td>\n",
       "      <td>Mathura-Vrindavan</td>\n",
       "      <td>North</td>\n",
       "      <td>Religious</td>\n",
       "      <td>Historical</td>\n",
       "    </tr>\n",
       "    <tr>\n",
       "      <th>4</th>\n",
       "      <td>5</td>\n",
       "      <td>Jaipur</td>\n",
       "      <td>East</td>\n",
       "      <td>Leisure</td>\n",
       "      <td>Historical</td>\n",
       "    </tr>\n",
       "    <tr>\n",
       "      <th>5</th>\n",
       "      <td>6</td>\n",
       "      <td>Pune</td>\n",
       "      <td>East</td>\n",
       "      <td>Hilly</td>\n",
       "      <td>Leisure</td>\n",
       "    </tr>\n",
       "    <tr>\n",
       "      <th>6</th>\n",
       "      <td>7</td>\n",
       "      <td>Goa</td>\n",
       "      <td>East</td>\n",
       "      <td>Beaches</td>\n",
       "      <td>Leisure</td>\n",
       "    </tr>\n",
       "    <tr>\n",
       "      <th>7</th>\n",
       "      <td>8</td>\n",
       "      <td>Banaras</td>\n",
       "      <td>Central</td>\n",
       "      <td>Religious</td>\n",
       "      <td>Historical</td>\n",
       "    </tr>\n",
       "    <tr>\n",
       "      <th>8</th>\n",
       "      <td>9</td>\n",
       "      <td>Ujjain</td>\n",
       "      <td>Central</td>\n",
       "      <td>Religious</td>\n",
       "      <td>Historical</td>\n",
       "    </tr>\n",
       "    <tr>\n",
       "      <th>9</th>\n",
       "      <td>10</td>\n",
       "      <td>Jhansi-Gwalior</td>\n",
       "      <td>Central</td>\n",
       "      <td>Historical</td>\n",
       "      <td>Religious</td>\n",
       "    </tr>\n",
       "    <tr>\n",
       "      <th>10</th>\n",
       "      <td>11</td>\n",
       "      <td>Gangtok</td>\n",
       "      <td>West</td>\n",
       "      <td>Leisure</td>\n",
       "      <td>Hilly</td>\n",
       "    </tr>\n",
       "    <tr>\n",
       "      <th>11</th>\n",
       "      <td>12</td>\n",
       "      <td>Darjeeling</td>\n",
       "      <td>West</td>\n",
       "      <td>Hilly</td>\n",
       "      <td>Leisure</td>\n",
       "    </tr>\n",
       "    <tr>\n",
       "      <th>12</th>\n",
       "      <td>13</td>\n",
       "      <td>Bhubaneshwar</td>\n",
       "      <td>West</td>\n",
       "      <td>Religious</td>\n",
       "      <td>Beaches</td>\n",
       "    </tr>\n",
       "    <tr>\n",
       "      <th>13</th>\n",
       "      <td>14</td>\n",
       "      <td>Ooty</td>\n",
       "      <td>South</td>\n",
       "      <td>Hilly</td>\n",
       "      <td>Leisure</td>\n",
       "    </tr>\n",
       "    <tr>\n",
       "      <th>14</th>\n",
       "      <td>15</td>\n",
       "      <td>Pondicherry</td>\n",
       "      <td>South</td>\n",
       "      <td>Beaches</td>\n",
       "      <td>Leisure</td>\n",
       "    </tr>\n",
       "    <tr>\n",
       "      <th>15</th>\n",
       "      <td>16</td>\n",
       "      <td>Thrissur</td>\n",
       "      <td>South</td>\n",
       "      <td>Religious</td>\n",
       "      <td>Beaches</td>\n",
       "    </tr>\n",
       "  </tbody>\n",
       "</table>\n",
       "</div>"
      ],
      "text/plain": [
       "    Serial_number               City Part_of_India         Tag        Tag2\n",
       "0               1              Delhi         North  Historical     Leisure\n",
       "1               2           Nainital         North       Hilly     Leisure\n",
       "2               3             Shimla         North       Hilly   Religious\n",
       "3               4  Mathura-Vrindavan         North   Religious  Historical\n",
       "4               5             Jaipur          East     Leisure  Historical\n",
       "5               6               Pune          East       Hilly     Leisure\n",
       "6               7                Goa          East     Beaches     Leisure\n",
       "7               8            Banaras       Central   Religious  Historical\n",
       "8               9             Ujjain       Central   Religious  Historical\n",
       "9              10     Jhansi-Gwalior       Central  Historical   Religious\n",
       "10             11            Gangtok          West     Leisure       Hilly\n",
       "11             12         Darjeeling          West       Hilly     Leisure\n",
       "12             13       Bhubaneshwar          West   Religious     Beaches\n",
       "13             14               Ooty         South       Hilly     Leisure\n",
       "14             15        Pondicherry         South     Beaches     Leisure\n",
       "15             16           Thrissur         South   Religious     Beaches"
      ]
     },
     "execution_count": 4,
     "metadata": {},
     "output_type": "execute_result"
    }
   ],
   "source": [
    "cities['Tag2'] = ['Leisure', 'Leisure', 'Religious', 'Historical', 'Historical', 'Leisure', 'Leisure', 'Historical', 'Historical',\n",
    "                 'Religious', 'Hilly', 'Leisure', 'Beaches', 'Leisure', 'Leisure', 'Beaches']\n",
    "cities.head(16)"
   ]
  },
  {
   "cell_type": "code",
   "execution_count": 86,
   "id": "8f6bfa25",
   "metadata": {},
   "outputs": [
    {
     "data": {
      "text/html": [
       "<div>\n",
       "<style scoped>\n",
       "    .dataframe tbody tr th:only-of-type {\n",
       "        vertical-align: middle;\n",
       "    }\n",
       "\n",
       "    .dataframe tbody tr th {\n",
       "        vertical-align: top;\n",
       "    }\n",
       "\n",
       "    .dataframe thead th {\n",
       "        text-align: right;\n",
       "    }\n",
       "</style>\n",
       "<table border=\"1\" class=\"dataframe\">\n",
       "  <thead>\n",
       "    <tr style=\"text-align: right;\">\n",
       "      <th></th>\n",
       "      <th>Serial_number</th>\n",
       "      <th>City</th>\n",
       "      <th>Part_of_India</th>\n",
       "      <th>Tag</th>\n",
       "      <th>Tag2</th>\n",
       "      <th>Tourism_Rank</th>\n",
       "      <th>Tourism_ID</th>\n",
       "    </tr>\n",
       "  </thead>\n",
       "  <tbody>\n",
       "    <tr>\n",
       "      <th>0</th>\n",
       "      <td>1</td>\n",
       "      <td>Delhi</td>\n",
       "      <td>North</td>\n",
       "      <td>Historical</td>\n",
       "      <td>Leisure</td>\n",
       "      <td>32</td>\n",
       "      <td>3</td>\n",
       "    </tr>\n",
       "    <tr>\n",
       "      <th>1</th>\n",
       "      <td>2</td>\n",
       "      <td>Nainital</td>\n",
       "      <td>North</td>\n",
       "      <td>Hilly</td>\n",
       "      <td>Leisure</td>\n",
       "      <td>16</td>\n",
       "      <td>2</td>\n",
       "    </tr>\n",
       "    <tr>\n",
       "      <th>2</th>\n",
       "      <td>3</td>\n",
       "      <td>Shimla</td>\n",
       "      <td>North</td>\n",
       "      <td>Hilly</td>\n",
       "      <td>Religious</td>\n",
       "      <td>17</td>\n",
       "      <td>2</td>\n",
       "    </tr>\n",
       "    <tr>\n",
       "      <th>3</th>\n",
       "      <td>4</td>\n",
       "      <td>Mathura-Vrindavan</td>\n",
       "      <td>North</td>\n",
       "      <td>Religious</td>\n",
       "      <td>Historical</td>\n",
       "      <td>30</td>\n",
       "      <td>5</td>\n",
       "    </tr>\n",
       "    <tr>\n",
       "      <th>4</th>\n",
       "      <td>5</td>\n",
       "      <td>Jaipur</td>\n",
       "      <td>East</td>\n",
       "      <td>Leisure</td>\n",
       "      <td>Historical</td>\n",
       "      <td>19</td>\n",
       "      <td>4</td>\n",
       "    </tr>\n",
       "    <tr>\n",
       "      <th>5</th>\n",
       "      <td>6</td>\n",
       "      <td>Pune</td>\n",
       "      <td>East</td>\n",
       "      <td>Hilly</td>\n",
       "      <td>Leisure</td>\n",
       "      <td>20</td>\n",
       "      <td>2</td>\n",
       "    </tr>\n",
       "    <tr>\n",
       "      <th>6</th>\n",
       "      <td>7</td>\n",
       "      <td>Goa</td>\n",
       "      <td>East</td>\n",
       "      <td>Beaches</td>\n",
       "      <td>Leisure</td>\n",
       "      <td>6</td>\n",
       "      <td>1</td>\n",
       "    </tr>\n",
       "    <tr>\n",
       "      <th>7</th>\n",
       "      <td>8</td>\n",
       "      <td>Banaras</td>\n",
       "      <td>Central</td>\n",
       "      <td>Religious</td>\n",
       "      <td>Historical</td>\n",
       "      <td>25</td>\n",
       "      <td>5</td>\n",
       "    </tr>\n",
       "    <tr>\n",
       "      <th>8</th>\n",
       "      <td>9</td>\n",
       "      <td>Ujjain</td>\n",
       "      <td>Central</td>\n",
       "      <td>Religious</td>\n",
       "      <td>Historical</td>\n",
       "      <td>24</td>\n",
       "      <td>5</td>\n",
       "    </tr>\n",
       "    <tr>\n",
       "      <th>9</th>\n",
       "      <td>10</td>\n",
       "      <td>Jhansi-Gwalior</td>\n",
       "      <td>Central</td>\n",
       "      <td>Historical</td>\n",
       "      <td>Religious</td>\n",
       "      <td>36</td>\n",
       "      <td>3</td>\n",
       "    </tr>\n",
       "    <tr>\n",
       "      <th>10</th>\n",
       "      <td>11</td>\n",
       "      <td>Gangtok</td>\n",
       "      <td>West</td>\n",
       "      <td>Leisure</td>\n",
       "      <td>Hilly</td>\n",
       "      <td>9</td>\n",
       "      <td>4</td>\n",
       "    </tr>\n",
       "    <tr>\n",
       "      <th>11</th>\n",
       "      <td>12</td>\n",
       "      <td>Darjeeling</td>\n",
       "      <td>West</td>\n",
       "      <td>Hilly</td>\n",
       "      <td>Leisure</td>\n",
       "      <td>15</td>\n",
       "      <td>2</td>\n",
       "    </tr>\n",
       "    <tr>\n",
       "      <th>12</th>\n",
       "      <td>13</td>\n",
       "      <td>Bhubaneshwar</td>\n",
       "      <td>West</td>\n",
       "      <td>Religious</td>\n",
       "      <td>Beaches</td>\n",
       "      <td>36</td>\n",
       "      <td>5</td>\n",
       "    </tr>\n",
       "    <tr>\n",
       "      <th>13</th>\n",
       "      <td>14</td>\n",
       "      <td>Ooty</td>\n",
       "      <td>South</td>\n",
       "      <td>Hilly</td>\n",
       "      <td>Leisure</td>\n",
       "      <td>18</td>\n",
       "      <td>2</td>\n",
       "    </tr>\n",
       "    <tr>\n",
       "      <th>14</th>\n",
       "      <td>15</td>\n",
       "      <td>Pondicherry</td>\n",
       "      <td>South</td>\n",
       "      <td>Beaches</td>\n",
       "      <td>Leisure</td>\n",
       "      <td>37</td>\n",
       "      <td>1</td>\n",
       "    </tr>\n",
       "    <tr>\n",
       "      <th>15</th>\n",
       "      <td>16</td>\n",
       "      <td>Thrissur</td>\n",
       "      <td>South</td>\n",
       "      <td>Religious</td>\n",
       "      <td>Beaches</td>\n",
       "      <td>35</td>\n",
       "      <td>5</td>\n",
       "    </tr>\n",
       "  </tbody>\n",
       "</table>\n",
       "</div>"
      ],
      "text/plain": [
       "    Serial_number               City Part_of_India         Tag        Tag2  \\\n",
       "0               1              Delhi         North  Historical     Leisure   \n",
       "1               2           Nainital         North       Hilly     Leisure   \n",
       "2               3             Shimla         North       Hilly   Religious   \n",
       "3               4  Mathura-Vrindavan         North   Religious  Historical   \n",
       "4               5             Jaipur          East     Leisure  Historical   \n",
       "5               6               Pune          East       Hilly     Leisure   \n",
       "6               7                Goa          East     Beaches     Leisure   \n",
       "7               8            Banaras       Central   Religious  Historical   \n",
       "8               9             Ujjain       Central   Religious  Historical   \n",
       "9              10     Jhansi-Gwalior       Central  Historical   Religious   \n",
       "10             11            Gangtok          West     Leisure       Hilly   \n",
       "11             12         Darjeeling          West       Hilly     Leisure   \n",
       "12             13       Bhubaneshwar          West   Religious     Beaches   \n",
       "13             14               Ooty         South       Hilly     Leisure   \n",
       "14             15        Pondicherry         South     Beaches     Leisure   \n",
       "15             16           Thrissur         South   Religious     Beaches   \n",
       "\n",
       "    Tourism_Rank  Tourism_ID  \n",
       "0             32           3  \n",
       "1             16           2  \n",
       "2             17           2  \n",
       "3             30           5  \n",
       "4             19           4  \n",
       "5             20           2  \n",
       "6              6           1  \n",
       "7             25           5  \n",
       "8             24           5  \n",
       "9             36           3  \n",
       "10             9           4  \n",
       "11            15           2  \n",
       "12            36           5  \n",
       "13            18           2  \n",
       "14            37           1  \n",
       "15            35           5  "
      ]
     },
     "execution_count": 86,
     "metadata": {},
     "output_type": "execute_result"
    }
   ],
   "source": [
    "cities['Tourism_Rank'] = [32, 16, 17, 30, 19, 20, 6, 25, 24, 36, 9, 15, 36, 18, 37, 35]\n",
    "cities['Tourism_ID'] = [3, 2, 2, 5, 4, 2, 1, 5, 5, 3, 4, 2, 5, 2, 1, 5]\n",
    "cities.head(16)"
   ]
  },
  {
   "cell_type": "code",
   "execution_count": 78,
   "id": "a195d345",
   "metadata": {},
   "outputs": [
    {
     "data": {
      "text/plain": [
       "(16, 7)"
      ]
     },
     "execution_count": 78,
     "metadata": {},
     "output_type": "execute_result"
    }
   ],
   "source": [
    "cities.shape"
   ]
  },
  {
   "cell_type": "code",
   "execution_count": 79,
   "id": "4585861a",
   "metadata": {},
   "outputs": [
    {
     "data": {
      "text/plain": [
       "Index(['Serial_number', 'City', 'Part_of_India', 'Tag', 'Tag2', 'Tourism_Rank',\n",
       "       'Tourism_ID'],\n",
       "      dtype='object')"
      ]
     },
     "execution_count": 79,
     "metadata": {},
     "output_type": "execute_result"
    }
   ],
   "source": [
    "cities.columns"
   ]
  },
  {
   "cell_type": "code",
   "execution_count": 80,
   "id": "e9887e20",
   "metadata": {},
   "outputs": [
    {
     "data": {
      "text/plain": [
       "Hilly         5\n",
       "Religious     5\n",
       "Historical    2\n",
       "Leisure       2\n",
       "Beaches       2\n",
       "Name: Tag, dtype: int64"
      ]
     },
     "execution_count": 80,
     "metadata": {},
     "output_type": "execute_result"
    }
   ],
   "source": [
    "cities['Tag'].value_counts()"
   ]
  },
  {
   "cell_type": "code",
   "execution_count": 81,
   "id": "261a336c",
   "metadata": {},
   "outputs": [
    {
     "data": {
      "text/plain": [
       "Leisure       7\n",
       "Historical    4\n",
       "Religious     2\n",
       "Beaches       2\n",
       "Hilly         1\n",
       "Name: Tag2, dtype: int64"
      ]
     },
     "execution_count": 81,
     "metadata": {},
     "output_type": "execute_result"
    }
   ],
   "source": [
    "cities['Tag2'].value_counts()"
   ]
  },
  {
   "cell_type": "code",
   "execution_count": 10,
   "id": "d48b40d2",
   "metadata": {},
   "outputs": [
    {
     "data": {
      "text/plain": [
       "(5,)"
      ]
     },
     "execution_count": 10,
     "metadata": {},
     "output_type": "execute_result"
    }
   ],
   "source": [
    "cities['Tag'].unique().shape"
   ]
  },
  {
   "cell_type": "code",
   "execution_count": 11,
   "id": "aaa19afc",
   "metadata": {},
   "outputs": [
    {
     "data": {
      "text/plain": [
       "(5,)"
      ]
     },
     "execution_count": 11,
     "metadata": {},
     "output_type": "execute_result"
    }
   ],
   "source": [
    "cities['Tag2'].unique().shape"
   ]
  },
  {
   "cell_type": "code",
   "execution_count": 12,
   "id": "9c6c6525",
   "metadata": {},
   "outputs": [],
   "source": [
    "x = cities['Tag'].value_counts()\n",
    "y = x.index"
   ]
  },
  {
   "cell_type": "code",
   "execution_count": 13,
   "id": "1e58a4dd",
   "metadata": {},
   "outputs": [
    {
     "data": {
      "text/plain": [
       "Index(['Hilly', 'Religious', 'Historical', 'Leisure', 'Beaches'], dtype='object')"
      ]
     },
     "execution_count": 13,
     "metadata": {},
     "output_type": "execute_result"
    }
   ],
   "source": [
    "y"
   ]
  },
  {
   "cell_type": "code",
   "execution_count": 82,
   "id": "d99629d9",
   "metadata": {},
   "outputs": [
    {
     "data": {
      "text/html": [
       "<div>\n",
       "<style scoped>\n",
       "    .dataframe tbody tr th:only-of-type {\n",
       "        vertical-align: middle;\n",
       "    }\n",
       "\n",
       "    .dataframe tbody tr th {\n",
       "        vertical-align: top;\n",
       "    }\n",
       "\n",
       "    .dataframe thead th {\n",
       "        text-align: right;\n",
       "    }\n",
       "</style>\n",
       "<table border=\"1\" class=\"dataframe\">\n",
       "  <thead>\n",
       "    <tr style=\"text-align: right;\">\n",
       "      <th></th>\n",
       "      <th>Serial_number</th>\n",
       "      <th>City</th>\n",
       "      <th>Part_of_India</th>\n",
       "      <th>Tag</th>\n",
       "      <th>Tag2</th>\n",
       "      <th>Tourism_Rank</th>\n",
       "      <th>Tourism_ID</th>\n",
       "    </tr>\n",
       "  </thead>\n",
       "  <tbody>\n",
       "    <tr>\n",
       "      <th>0</th>\n",
       "      <td>1</td>\n",
       "      <td>Delhi</td>\n",
       "      <td>North</td>\n",
       "      <td>Historical</td>\n",
       "      <td>Leisure</td>\n",
       "      <td>32</td>\n",
       "      <td>3</td>\n",
       "    </tr>\n",
       "    <tr>\n",
       "      <th>1</th>\n",
       "      <td>2</td>\n",
       "      <td>Nainital</td>\n",
       "      <td>North</td>\n",
       "      <td>Hilly</td>\n",
       "      <td>Leisure</td>\n",
       "      <td>16</td>\n",
       "      <td>2</td>\n",
       "    </tr>\n",
       "    <tr>\n",
       "      <th>2</th>\n",
       "      <td>3</td>\n",
       "      <td>Shimla</td>\n",
       "      <td>North</td>\n",
       "      <td>Hilly</td>\n",
       "      <td>Religious</td>\n",
       "      <td>17</td>\n",
       "      <td>2</td>\n",
       "    </tr>\n",
       "    <tr>\n",
       "      <th>3</th>\n",
       "      <td>4</td>\n",
       "      <td>Mathura-Vrindavan</td>\n",
       "      <td>North</td>\n",
       "      <td>Religious</td>\n",
       "      <td>Historical</td>\n",
       "      <td>30</td>\n",
       "      <td>5</td>\n",
       "    </tr>\n",
       "    <tr>\n",
       "      <th>4</th>\n",
       "      <td>5</td>\n",
       "      <td>Jaipur</td>\n",
       "      <td>East</td>\n",
       "      <td>Leisure</td>\n",
       "      <td>Historical</td>\n",
       "      <td>19</td>\n",
       "      <td>4</td>\n",
       "    </tr>\n",
       "    <tr>\n",
       "      <th>5</th>\n",
       "      <td>6</td>\n",
       "      <td>Pune</td>\n",
       "      <td>East</td>\n",
       "      <td>Hilly</td>\n",
       "      <td>Leisure</td>\n",
       "      <td>20</td>\n",
       "      <td>2</td>\n",
       "    </tr>\n",
       "    <tr>\n",
       "      <th>6</th>\n",
       "      <td>7</td>\n",
       "      <td>Goa</td>\n",
       "      <td>East</td>\n",
       "      <td>Beaches</td>\n",
       "      <td>Leisure</td>\n",
       "      <td>6</td>\n",
       "      <td>1</td>\n",
       "    </tr>\n",
       "    <tr>\n",
       "      <th>7</th>\n",
       "      <td>8</td>\n",
       "      <td>Banaras</td>\n",
       "      <td>Central</td>\n",
       "      <td>Religious</td>\n",
       "      <td>Historical</td>\n",
       "      <td>25</td>\n",
       "      <td>5</td>\n",
       "    </tr>\n",
       "    <tr>\n",
       "      <th>8</th>\n",
       "      <td>9</td>\n",
       "      <td>Ujjain</td>\n",
       "      <td>Central</td>\n",
       "      <td>Religious</td>\n",
       "      <td>Historical</td>\n",
       "      <td>24</td>\n",
       "      <td>5</td>\n",
       "    </tr>\n",
       "    <tr>\n",
       "      <th>9</th>\n",
       "      <td>10</td>\n",
       "      <td>Jhansi-Gwalior</td>\n",
       "      <td>Central</td>\n",
       "      <td>Historical</td>\n",
       "      <td>Religious</td>\n",
       "      <td>36</td>\n",
       "      <td>3</td>\n",
       "    </tr>\n",
       "    <tr>\n",
       "      <th>10</th>\n",
       "      <td>11</td>\n",
       "      <td>Gangtok</td>\n",
       "      <td>West</td>\n",
       "      <td>Leisure</td>\n",
       "      <td>Hilly</td>\n",
       "      <td>9</td>\n",
       "      <td>4</td>\n",
       "    </tr>\n",
       "    <tr>\n",
       "      <th>11</th>\n",
       "      <td>12</td>\n",
       "      <td>Darjeeling</td>\n",
       "      <td>West</td>\n",
       "      <td>Hilly</td>\n",
       "      <td>Leisure</td>\n",
       "      <td>15</td>\n",
       "      <td>2</td>\n",
       "    </tr>\n",
       "    <tr>\n",
       "      <th>12</th>\n",
       "      <td>13</td>\n",
       "      <td>Bhubaneshwar</td>\n",
       "      <td>West</td>\n",
       "      <td>Religious</td>\n",
       "      <td>Beaches</td>\n",
       "      <td>36</td>\n",
       "      <td>5</td>\n",
       "    </tr>\n",
       "    <tr>\n",
       "      <th>13</th>\n",
       "      <td>14</td>\n",
       "      <td>Ooty</td>\n",
       "      <td>South</td>\n",
       "      <td>Hilly</td>\n",
       "      <td>Leisure</td>\n",
       "      <td>18</td>\n",
       "      <td>2</td>\n",
       "    </tr>\n",
       "    <tr>\n",
       "      <th>14</th>\n",
       "      <td>15</td>\n",
       "      <td>Pondicherry</td>\n",
       "      <td>South</td>\n",
       "      <td>Beaches</td>\n",
       "      <td>Leisure</td>\n",
       "      <td>37</td>\n",
       "      <td>1</td>\n",
       "    </tr>\n",
       "    <tr>\n",
       "      <th>15</th>\n",
       "      <td>16</td>\n",
       "      <td>Thrissur</td>\n",
       "      <td>South</td>\n",
       "      <td>Religious</td>\n",
       "      <td>Beaches</td>\n",
       "      <td>35</td>\n",
       "      <td>5</td>\n",
       "    </tr>\n",
       "  </tbody>\n",
       "</table>\n",
       "</div>"
      ],
      "text/plain": [
       "    Serial_number               City Part_of_India         Tag        Tag2  \\\n",
       "0               1              Delhi         North  Historical     Leisure   \n",
       "1               2           Nainital         North       Hilly     Leisure   \n",
       "2               3             Shimla         North       Hilly   Religious   \n",
       "3               4  Mathura-Vrindavan         North   Religious  Historical   \n",
       "4               5             Jaipur          East     Leisure  Historical   \n",
       "5               6               Pune          East       Hilly     Leisure   \n",
       "6               7                Goa          East     Beaches     Leisure   \n",
       "7               8            Banaras       Central   Religious  Historical   \n",
       "8               9             Ujjain       Central   Religious  Historical   \n",
       "9              10     Jhansi-Gwalior       Central  Historical   Religious   \n",
       "10             11            Gangtok          West     Leisure       Hilly   \n",
       "11             12         Darjeeling          West       Hilly     Leisure   \n",
       "12             13       Bhubaneshwar          West   Religious     Beaches   \n",
       "13             14               Ooty         South       Hilly     Leisure   \n",
       "14             15        Pondicherry         South     Beaches     Leisure   \n",
       "15             16           Thrissur         South   Religious     Beaches   \n",
       "\n",
       "    Tourism_Rank  Tourism_ID  \n",
       "0             32           3  \n",
       "1             16           2  \n",
       "2             17           2  \n",
       "3             30           5  \n",
       "4             19           4  \n",
       "5             20           2  \n",
       "6              6           1  \n",
       "7             25           5  \n",
       "8             24           5  \n",
       "9             36           3  \n",
       "10             9           4  \n",
       "11            15           2  \n",
       "12            36           5  \n",
       "13            18           2  \n",
       "14            37           1  \n",
       "15            35           5  "
      ]
     },
     "execution_count": 82,
     "metadata": {},
     "output_type": "execute_result"
    }
   ],
   "source": [
    "cities[cities['Tag'].isin(y)]"
   ]
  },
  {
   "cell_type": "code",
   "execution_count": 123,
   "id": "b49e2b57",
   "metadata": {},
   "outputs": [],
   "source": [
    "cities_pivot = cities.pivot_table(columns=['Tag'], index='City', values='Tourism_ID')"
   ]
  },
  {
   "cell_type": "code",
   "execution_count": 124,
   "id": "e93dbeec",
   "metadata": {},
   "outputs": [
    {
     "data": {
      "text/html": [
       "<div>\n",
       "<style scoped>\n",
       "    .dataframe tbody tr th:only-of-type {\n",
       "        vertical-align: middle;\n",
       "    }\n",
       "\n",
       "    .dataframe tbody tr th {\n",
       "        vertical-align: top;\n",
       "    }\n",
       "\n",
       "    .dataframe thead th {\n",
       "        text-align: right;\n",
       "    }\n",
       "</style>\n",
       "<table border=\"1\" class=\"dataframe\">\n",
       "  <thead>\n",
       "    <tr style=\"text-align: right;\">\n",
       "      <th>Tag</th>\n",
       "      <th>Beaches</th>\n",
       "      <th>Hilly</th>\n",
       "      <th>Historical</th>\n",
       "      <th>Leisure</th>\n",
       "      <th>Religious</th>\n",
       "    </tr>\n",
       "    <tr>\n",
       "      <th>City</th>\n",
       "      <th></th>\n",
       "      <th></th>\n",
       "      <th></th>\n",
       "      <th></th>\n",
       "      <th></th>\n",
       "    </tr>\n",
       "  </thead>\n",
       "  <tbody>\n",
       "    <tr>\n",
       "      <th>Banaras</th>\n",
       "      <td>NaN</td>\n",
       "      <td>NaN</td>\n",
       "      <td>NaN</td>\n",
       "      <td>NaN</td>\n",
       "      <td>5.0</td>\n",
       "    </tr>\n",
       "    <tr>\n",
       "      <th>Bhubaneshwar</th>\n",
       "      <td>NaN</td>\n",
       "      <td>NaN</td>\n",
       "      <td>NaN</td>\n",
       "      <td>NaN</td>\n",
       "      <td>5.0</td>\n",
       "    </tr>\n",
       "    <tr>\n",
       "      <th>Darjeeling</th>\n",
       "      <td>NaN</td>\n",
       "      <td>2.0</td>\n",
       "      <td>NaN</td>\n",
       "      <td>NaN</td>\n",
       "      <td>NaN</td>\n",
       "    </tr>\n",
       "    <tr>\n",
       "      <th>Delhi</th>\n",
       "      <td>NaN</td>\n",
       "      <td>NaN</td>\n",
       "      <td>3.0</td>\n",
       "      <td>NaN</td>\n",
       "      <td>NaN</td>\n",
       "    </tr>\n",
       "    <tr>\n",
       "      <th>Gangtok</th>\n",
       "      <td>NaN</td>\n",
       "      <td>NaN</td>\n",
       "      <td>NaN</td>\n",
       "      <td>4.0</td>\n",
       "      <td>NaN</td>\n",
       "    </tr>\n",
       "    <tr>\n",
       "      <th>Goa</th>\n",
       "      <td>1.0</td>\n",
       "      <td>NaN</td>\n",
       "      <td>NaN</td>\n",
       "      <td>NaN</td>\n",
       "      <td>NaN</td>\n",
       "    </tr>\n",
       "    <tr>\n",
       "      <th>Jaipur</th>\n",
       "      <td>NaN</td>\n",
       "      <td>NaN</td>\n",
       "      <td>NaN</td>\n",
       "      <td>4.0</td>\n",
       "      <td>NaN</td>\n",
       "    </tr>\n",
       "    <tr>\n",
       "      <th>Jhansi-Gwalior</th>\n",
       "      <td>NaN</td>\n",
       "      <td>NaN</td>\n",
       "      <td>3.0</td>\n",
       "      <td>NaN</td>\n",
       "      <td>NaN</td>\n",
       "    </tr>\n",
       "    <tr>\n",
       "      <th>Mathura-Vrindavan</th>\n",
       "      <td>NaN</td>\n",
       "      <td>NaN</td>\n",
       "      <td>NaN</td>\n",
       "      <td>NaN</td>\n",
       "      <td>5.0</td>\n",
       "    </tr>\n",
       "    <tr>\n",
       "      <th>Nainital</th>\n",
       "      <td>NaN</td>\n",
       "      <td>2.0</td>\n",
       "      <td>NaN</td>\n",
       "      <td>NaN</td>\n",
       "      <td>NaN</td>\n",
       "    </tr>\n",
       "    <tr>\n",
       "      <th>Ooty</th>\n",
       "      <td>NaN</td>\n",
       "      <td>2.0</td>\n",
       "      <td>NaN</td>\n",
       "      <td>NaN</td>\n",
       "      <td>NaN</td>\n",
       "    </tr>\n",
       "    <tr>\n",
       "      <th>Pondicherry</th>\n",
       "      <td>1.0</td>\n",
       "      <td>NaN</td>\n",
       "      <td>NaN</td>\n",
       "      <td>NaN</td>\n",
       "      <td>NaN</td>\n",
       "    </tr>\n",
       "    <tr>\n",
       "      <th>Pune</th>\n",
       "      <td>NaN</td>\n",
       "      <td>2.0</td>\n",
       "      <td>NaN</td>\n",
       "      <td>NaN</td>\n",
       "      <td>NaN</td>\n",
       "    </tr>\n",
       "    <tr>\n",
       "      <th>Shimla</th>\n",
       "      <td>NaN</td>\n",
       "      <td>2.0</td>\n",
       "      <td>NaN</td>\n",
       "      <td>NaN</td>\n",
       "      <td>NaN</td>\n",
       "    </tr>\n",
       "    <tr>\n",
       "      <th>Thrissur</th>\n",
       "      <td>NaN</td>\n",
       "      <td>NaN</td>\n",
       "      <td>NaN</td>\n",
       "      <td>NaN</td>\n",
       "      <td>5.0</td>\n",
       "    </tr>\n",
       "    <tr>\n",
       "      <th>Ujjain</th>\n",
       "      <td>NaN</td>\n",
       "      <td>NaN</td>\n",
       "      <td>NaN</td>\n",
       "      <td>NaN</td>\n",
       "      <td>5.0</td>\n",
       "    </tr>\n",
       "  </tbody>\n",
       "</table>\n",
       "</div>"
      ],
      "text/plain": [
       "Tag                Beaches  Hilly  Historical  Leisure  Religious\n",
       "City                                                             \n",
       "Banaras                NaN    NaN         NaN      NaN        5.0\n",
       "Bhubaneshwar           NaN    NaN         NaN      NaN        5.0\n",
       "Darjeeling             NaN    2.0         NaN      NaN        NaN\n",
       "Delhi                  NaN    NaN         3.0      NaN        NaN\n",
       "Gangtok                NaN    NaN         NaN      4.0        NaN\n",
       "Goa                    1.0    NaN         NaN      NaN        NaN\n",
       "Jaipur                 NaN    NaN         NaN      4.0        NaN\n",
       "Jhansi-Gwalior         NaN    NaN         3.0      NaN        NaN\n",
       "Mathura-Vrindavan      NaN    NaN         NaN      NaN        5.0\n",
       "Nainital               NaN    2.0         NaN      NaN        NaN\n",
       "Ooty                   NaN    2.0         NaN      NaN        NaN\n",
       "Pondicherry            1.0    NaN         NaN      NaN        NaN\n",
       "Pune                   NaN    2.0         NaN      NaN        NaN\n",
       "Shimla                 NaN    2.0         NaN      NaN        NaN\n",
       "Thrissur               NaN    NaN         NaN      NaN        5.0\n",
       "Ujjain                 NaN    NaN         NaN      NaN        5.0"
      ]
     },
     "execution_count": 124,
     "metadata": {},
     "output_type": "execute_result"
    }
   ],
   "source": [
    "cities_pivot"
   ]
  },
  {
   "cell_type": "code",
   "execution_count": 125,
   "id": "e07da991",
   "metadata": {},
   "outputs": [
    {
     "data": {
      "text/plain": [
       "(16, 5)"
      ]
     },
     "execution_count": 125,
     "metadata": {},
     "output_type": "execute_result"
    }
   ],
   "source": [
    "cities_pivot.shape"
   ]
  },
  {
   "cell_type": "code",
   "execution_count": 126,
   "id": "ec60eb52",
   "metadata": {},
   "outputs": [
    {
     "data": {
      "text/html": [
       "<div>\n",
       "<style scoped>\n",
       "    .dataframe tbody tr th:only-of-type {\n",
       "        vertical-align: middle;\n",
       "    }\n",
       "\n",
       "    .dataframe tbody tr th {\n",
       "        vertical-align: top;\n",
       "    }\n",
       "\n",
       "    .dataframe thead th {\n",
       "        text-align: right;\n",
       "    }\n",
       "</style>\n",
       "<table border=\"1\" class=\"dataframe\">\n",
       "  <thead>\n",
       "    <tr style=\"text-align: right;\">\n",
       "      <th>Tag</th>\n",
       "      <th>Beaches</th>\n",
       "      <th>Hilly</th>\n",
       "      <th>Historical</th>\n",
       "      <th>Leisure</th>\n",
       "      <th>Religious</th>\n",
       "    </tr>\n",
       "    <tr>\n",
       "      <th>City</th>\n",
       "      <th></th>\n",
       "      <th></th>\n",
       "      <th></th>\n",
       "      <th></th>\n",
       "      <th></th>\n",
       "    </tr>\n",
       "  </thead>\n",
       "  <tbody>\n",
       "    <tr>\n",
       "      <th>Banaras</th>\n",
       "      <td>0.0</td>\n",
       "      <td>0.0</td>\n",
       "      <td>0.0</td>\n",
       "      <td>0.0</td>\n",
       "      <td>5.0</td>\n",
       "    </tr>\n",
       "    <tr>\n",
       "      <th>Bhubaneshwar</th>\n",
       "      <td>0.0</td>\n",
       "      <td>0.0</td>\n",
       "      <td>0.0</td>\n",
       "      <td>0.0</td>\n",
       "      <td>5.0</td>\n",
       "    </tr>\n",
       "    <tr>\n",
       "      <th>Darjeeling</th>\n",
       "      <td>0.0</td>\n",
       "      <td>2.0</td>\n",
       "      <td>0.0</td>\n",
       "      <td>0.0</td>\n",
       "      <td>0.0</td>\n",
       "    </tr>\n",
       "    <tr>\n",
       "      <th>Delhi</th>\n",
       "      <td>0.0</td>\n",
       "      <td>0.0</td>\n",
       "      <td>3.0</td>\n",
       "      <td>0.0</td>\n",
       "      <td>0.0</td>\n",
       "    </tr>\n",
       "    <tr>\n",
       "      <th>Gangtok</th>\n",
       "      <td>0.0</td>\n",
       "      <td>0.0</td>\n",
       "      <td>0.0</td>\n",
       "      <td>4.0</td>\n",
       "      <td>0.0</td>\n",
       "    </tr>\n",
       "    <tr>\n",
       "      <th>Goa</th>\n",
       "      <td>1.0</td>\n",
       "      <td>0.0</td>\n",
       "      <td>0.0</td>\n",
       "      <td>0.0</td>\n",
       "      <td>0.0</td>\n",
       "    </tr>\n",
       "    <tr>\n",
       "      <th>Jaipur</th>\n",
       "      <td>0.0</td>\n",
       "      <td>0.0</td>\n",
       "      <td>0.0</td>\n",
       "      <td>4.0</td>\n",
       "      <td>0.0</td>\n",
       "    </tr>\n",
       "    <tr>\n",
       "      <th>Jhansi-Gwalior</th>\n",
       "      <td>0.0</td>\n",
       "      <td>0.0</td>\n",
       "      <td>3.0</td>\n",
       "      <td>0.0</td>\n",
       "      <td>0.0</td>\n",
       "    </tr>\n",
       "    <tr>\n",
       "      <th>Mathura-Vrindavan</th>\n",
       "      <td>0.0</td>\n",
       "      <td>0.0</td>\n",
       "      <td>0.0</td>\n",
       "      <td>0.0</td>\n",
       "      <td>5.0</td>\n",
       "    </tr>\n",
       "    <tr>\n",
       "      <th>Nainital</th>\n",
       "      <td>0.0</td>\n",
       "      <td>2.0</td>\n",
       "      <td>0.0</td>\n",
       "      <td>0.0</td>\n",
       "      <td>0.0</td>\n",
       "    </tr>\n",
       "    <tr>\n",
       "      <th>Ooty</th>\n",
       "      <td>0.0</td>\n",
       "      <td>2.0</td>\n",
       "      <td>0.0</td>\n",
       "      <td>0.0</td>\n",
       "      <td>0.0</td>\n",
       "    </tr>\n",
       "    <tr>\n",
       "      <th>Pondicherry</th>\n",
       "      <td>1.0</td>\n",
       "      <td>0.0</td>\n",
       "      <td>0.0</td>\n",
       "      <td>0.0</td>\n",
       "      <td>0.0</td>\n",
       "    </tr>\n",
       "    <tr>\n",
       "      <th>Pune</th>\n",
       "      <td>0.0</td>\n",
       "      <td>2.0</td>\n",
       "      <td>0.0</td>\n",
       "      <td>0.0</td>\n",
       "      <td>0.0</td>\n",
       "    </tr>\n",
       "    <tr>\n",
       "      <th>Shimla</th>\n",
       "      <td>0.0</td>\n",
       "      <td>2.0</td>\n",
       "      <td>0.0</td>\n",
       "      <td>0.0</td>\n",
       "      <td>0.0</td>\n",
       "    </tr>\n",
       "    <tr>\n",
       "      <th>Thrissur</th>\n",
       "      <td>0.0</td>\n",
       "      <td>0.0</td>\n",
       "      <td>0.0</td>\n",
       "      <td>0.0</td>\n",
       "      <td>5.0</td>\n",
       "    </tr>\n",
       "    <tr>\n",
       "      <th>Ujjain</th>\n",
       "      <td>0.0</td>\n",
       "      <td>0.0</td>\n",
       "      <td>0.0</td>\n",
       "      <td>0.0</td>\n",
       "      <td>5.0</td>\n",
       "    </tr>\n",
       "  </tbody>\n",
       "</table>\n",
       "</div>"
      ],
      "text/plain": [
       "Tag                Beaches  Hilly  Historical  Leisure  Religious\n",
       "City                                                             \n",
       "Banaras                0.0    0.0         0.0      0.0        5.0\n",
       "Bhubaneshwar           0.0    0.0         0.0      0.0        5.0\n",
       "Darjeeling             0.0    2.0         0.0      0.0        0.0\n",
       "Delhi                  0.0    0.0         3.0      0.0        0.0\n",
       "Gangtok                0.0    0.0         0.0      4.0        0.0\n",
       "Goa                    1.0    0.0         0.0      0.0        0.0\n",
       "Jaipur                 0.0    0.0         0.0      4.0        0.0\n",
       "Jhansi-Gwalior         0.0    0.0         3.0      0.0        0.0\n",
       "Mathura-Vrindavan      0.0    0.0         0.0      0.0        5.0\n",
       "Nainital               0.0    2.0         0.0      0.0        0.0\n",
       "Ooty                   0.0    2.0         0.0      0.0        0.0\n",
       "Pondicherry            1.0    0.0         0.0      0.0        0.0\n",
       "Pune                   0.0    2.0         0.0      0.0        0.0\n",
       "Shimla                 0.0    2.0         0.0      0.0        0.0\n",
       "Thrissur               0.0    0.0         0.0      0.0        5.0\n",
       "Ujjain                 0.0    0.0         0.0      0.0        5.0"
      ]
     },
     "execution_count": 126,
     "metadata": {},
     "output_type": "execute_result"
    }
   ],
   "source": [
    "cities_pivot.fillna(0, inplace=True)\n",
    "cities_pivot"
   ]
  },
  {
   "cell_type": "code",
   "execution_count": 127,
   "id": "79656f12",
   "metadata": {},
   "outputs": [],
   "source": [
    "from scipy.sparse import csr_matrix"
   ]
  },
  {
   "cell_type": "code",
   "execution_count": 128,
   "id": "f18d5234",
   "metadata": {},
   "outputs": [
    {
     "data": {
      "text/plain": [
       "<16x5 sparse matrix of type '<class 'numpy.float64'>'\n",
       "\twith 16 stored elements in Compressed Sparse Row format>"
      ]
     },
     "execution_count": 128,
     "metadata": {},
     "output_type": "execute_result"
    }
   ],
   "source": [
    "cities_sparse = csr_matrix(cities_pivot)\n",
    "cities_sparse"
   ]
  },
  {
   "cell_type": "code",
   "execution_count": 129,
   "id": "e7aa5725",
   "metadata": {},
   "outputs": [],
   "source": [
    "from sklearn.neighbors import NearestNeighbors\n",
    "model = NearestNeighbors(algorithm='brute')"
   ]
  },
  {
   "cell_type": "code",
   "execution_count": 130,
   "id": "2ce8a751",
   "metadata": {},
   "outputs": [
    {
     "data": {
      "text/plain": [
       "NearestNeighbors(algorithm='brute')"
      ]
     },
     "execution_count": 130,
     "metadata": {},
     "output_type": "execute_result"
    }
   ],
   "source": [
    "model.fit(cities_sparse)"
   ]
  },
  {
   "cell_type": "code",
   "execution_count": 131,
   "id": "5b8b782b",
   "metadata": {},
   "outputs": [
    {
     "data": {
      "text/plain": [
       "array([[0.        , 0.        , 0.        , 0.        , 0.        ,\n",
       "        5.09901951]])"
      ]
     },
     "execution_count": 131,
     "metadata": {},
     "output_type": "execute_result"
    }
   ],
   "source": [
    "distance, suggestion = model.kneighbors(cities_pivot.iloc[15,:].values.reshape(1,-1), n_neighbors=6)\n",
    "distance"
   ]
  },
  {
   "cell_type": "code",
   "execution_count": 132,
   "id": "593db5f9",
   "metadata": {},
   "outputs": [
    {
     "data": {
      "text/plain": [
       "array([[ 1, 15, 14,  8,  0,  5]], dtype=int64)"
      ]
     },
     "execution_count": 132,
     "metadata": {},
     "output_type": "execute_result"
    }
   ],
   "source": [
    "suggestion"
   ]
  },
  {
   "cell_type": "code",
   "execution_count": 133,
   "id": "dadc5f33",
   "metadata": {},
   "outputs": [
    {
     "name": "stdout",
     "output_type": "stream",
     "text": [
      "Index(['Bhubaneshwar', 'Ujjain', 'Thrissur', 'Mathura-Vrindavan', 'Banaras',\n",
      "       'Goa'],\n",
      "      dtype='object', name='City')\n"
     ]
    }
   ],
   "source": [
    "for i in range(len(suggestion)):\n",
    "    print(cities_pivot.index[suggestion[i]])"
   ]
  },
  {
   "cell_type": "code",
   "execution_count": 134,
   "id": "a5ef20ed",
   "metadata": {},
   "outputs": [
    {
     "data": {
      "text/plain": [
       "Index(['Banaras', 'Bhubaneshwar', 'Darjeeling', 'Delhi', 'Gangtok', 'Goa',\n",
       "       'Jaipur', 'Jhansi-Gwalior', 'Mathura-Vrindavan', 'Nainital', 'Ooty',\n",
       "       'Pondicherry', 'Pune', 'Shimla', 'Thrissur', 'Ujjain'],\n",
       "      dtype='object', name='City')"
      ]
     },
     "execution_count": 134,
     "metadata": {},
     "output_type": "execute_result"
    }
   ],
   "source": [
    "cities_pivot.index"
   ]
  },
  {
   "cell_type": "code",
   "execution_count": 135,
   "id": "fc2f57d4",
   "metadata": {},
   "outputs": [],
   "source": [
    "cities_names = cities_pivot.index"
   ]
  },
  {
   "cell_type": "code",
   "execution_count": 136,
   "id": "8f86cd91",
   "metadata": {},
   "outputs": [],
   "source": [
    "import pickle\n",
    "pickle.dump(model, open('artifacts/model.pkl', 'wb'))\n",
    "pickle.dump(cities_names, open('artifacts/cities_names.pkl', 'wb'))\n",
    "pickle.dump(cities, open('artifacts/cities.pkl', 'wb'))\n",
    "pickle.dump(cities_pivot, open('artifacts/cities_pivot.pkl', 'wb'))"
   ]
  },
  {
   "cell_type": "code",
   "execution_count": 137,
   "id": "6dc3cdc4",
   "metadata": {},
   "outputs": [],
   "source": [
    "def recommend_cities(city_name):\n",
    "    city_id = np.where(cities_pivot.index == city_name)[0][0]\n",
    "    distance, suggestion = model.kneighbors(cities_pivot.iloc[city_id,:].values.reshape(1,-1), n_neighbors=6)\n",
    "    \n",
    "    for i in range(len(suggestion)):\n",
    "        city = cities_pivot.index[suggestion[i]]\n",
    "        for j in city:\n",
    "            print(j)"
   ]
  },
  {
   "cell_type": "code",
   "execution_count": 138,
   "id": "5c33478e",
   "metadata": {},
   "outputs": [
    {
     "data": {
      "text/plain": [
       "2"
      ]
     },
     "execution_count": 138,
     "metadata": {},
     "output_type": "execute_result"
    }
   ],
   "source": [
    "np.where(cities_pivot.index == 'Darjeeling')[0][0]"
   ]
  },
  {
   "cell_type": "code",
   "execution_count": 144,
   "id": "51a437cb",
   "metadata": {},
   "outputs": [
    {
     "name": "stdout",
     "output_type": "stream",
     "text": [
      "Bhubaneshwar\n",
      "Ujjain\n",
      "Thrissur\n",
      "Mathura-Vrindavan\n",
      "Banaras\n",
      "Goa\n"
     ]
    }
   ],
   "source": [
    "city_name = 'Ujjain'\n",
    "recommend_cities(city_name)"
   ]
  },
  {
   "cell_type": "code",
   "execution_count": null,
   "id": "145e38cb",
   "metadata": {},
   "outputs": [],
   "source": []
  },
  {
   "cell_type": "code",
   "execution_count": null,
   "id": "da822fd6",
   "metadata": {},
   "outputs": [],
   "source": []
  }
 ],
 "metadata": {
  "kernelspec": {
   "display_name": "Python 3 (ipykernel)",
   "language": "python",
   "name": "python3"
  },
  "language_info": {
   "codemirror_mode": {
    "name": "ipython",
    "version": 3
   },
   "file_extension": ".py",
   "mimetype": "text/x-python",
   "name": "python",
   "nbconvert_exporter": "python",
   "pygments_lexer": "ipython3",
   "version": "3.9.12"
  }
 },
 "nbformat": 4,
 "nbformat_minor": 5
}
